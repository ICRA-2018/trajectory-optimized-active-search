{
 "cells": [
  {
   "cell_type": "markdown",
   "metadata": {},
   "source": [
    "# trajectory-optimized-active-search\n",
    "Code for the ICRA2018 paper [Trajectory-Optimized Sensing for Active Search of Tissue Abnormalities in Robotic Surgery](https://arxiv.org/pdf/1711.07063.pdf).\n",
    "\n",
    "The code folder contains two folders; `discrete_probing` and `continuous_probing`."
   ]
  },
  {
   "cell_type": "markdown",
   "metadata": {},
   "source": [
    "## discrete_probing\n",
    "* estimating stiffness map using sequntial discrete probing strategy.\n",
    "* replicating the results of `Fig.3` in the paper.\n",
    "\n",
    "#### How to run\n",
    "* run the [discrete_probing_demo](discrete_probing_demo.ipynb) notebook for generating stiffness map using all the algorithms discussed the paper.\n",
    "* run the `incremental_demo.m` file for generating stiffness map using all the algorithms discussed the paper in an incremental fashion (you can see the points being probed sequentially). This code also saves all the results at after each probe in an automatically generated `results` folder.\n",
    "* run the `recall_plot_randomized_groundTruths.m` and `recall_plot_same_groundTruth.m` files to generate the recall plot of `Fig. 4`. "
   ]
  },
  {
   "cell_type": "markdown",
   "metadata": {},
   "source": [
    "## continuous_probing\n",
    "* estimating stiffness map using sampling-based trajectory planning to generate continuous palapation paths.\n",
    "* replicating the results of `Fig.5` in the paper.\n",
    "\n",
    "#### How to run\n",
    "* run the `test.m` file for generating stiffness map using any of the algorithms discussed the paper (you can change which algorithm you want to test inside the code) \n",
    "* run the `demo.m` file for generating stiffness map using all the algorithms discussed the paper. This code also saves all the results at after each probe in an automatically generated `results` folder.\n",
    "* run the `recall_plot_randomized_groundTruths.m` and `recall_plot_same_groundTruth.m` files to generate the recall plot of `Fig. 8`. "
   ]
  },
  {
   "cell_type": "markdown",
   "metadata": {},
   "source": [
    "# Contact\n",
    "* Hadi Salman (hadicsalman@gmail.com)\n",
    "* Elif Ayvali (eayvali@gmail.com)"
   ]
  }
 ],
 "metadata": {
  "kernelspec": {
   "display_name": "Bash",
   "language": "bash",
   "name": "bash"
  },
  "language_info": {
   "codemirror_mode": "shell",
   "file_extension": ".sh",
   "mimetype": "text/x-sh",
   "name": "bash"
  }
 },
 "nbformat": 4,
 "nbformat_minor": 2
}

